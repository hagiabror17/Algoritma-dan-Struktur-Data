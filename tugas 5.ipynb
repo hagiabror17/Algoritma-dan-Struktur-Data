{
 "cells": [
  {
   "cell_type": "code",
   "execution_count": 3,
   "metadata": {},
   "outputs": [
    {
     "name": "stdout",
     "output_type": "stream",
     "text": [
      "I like Programming\n",
      "Because I pround to make something new\n"
     ]
    }
   ],
   "source": [
    "#tugas 5\n",
    "\n",
    "def function_1():\n",
    "    print(\"Because I pround to make something new\")\n",
    "def function_2():\n",
    "    print(\"I like Programming\")\n",
    "#pemangilan fungsi 2\n",
    "function_2()\n",
    "#pemangilan fungsi 1\n",
    "function_1()"
   ]
  },
  {
   "cell_type": "code",
   "execution_count": 4,
   "metadata": {},
   "outputs": [
    {
     "name": "stdout",
     "output_type": "stream",
     "text": [
      "nama saya adalah habibie\n",
      "perkenalkan nama saya adalah  habibie dari bandung\n",
      "luas persegi panjang adalah 24\n"
     ]
    }
   ],
   "source": [
    "#tugas 5\n",
    "\n",
    "def fungsi_1():\n",
    "    nama=input(\"nama saya adalah\")\n",
    "    print(\"perkenalkan nama saya adalah\",nama,\"dari bandung\")\n",
    "def luas_persegi_panjang(panjang,lebar):\n",
    "    luas=(panjang*lebar)\n",
    "    print(\"luas persegi panjang adalah\",luas)\n",
    "fungsi_1()\n",
    "luas_persegi_panjang(4,6)\n",
    "    "
   ]
  },
  {
   "cell_type": "code",
   "execution_count": 5,
   "metadata": {},
   "outputs": [
    {
     "name": "stdout",
     "output_type": "stream",
     "text": [
      "masukan nilai panjang dalam satuan cm 3\n",
      "masukan nilai lebar dalam satuan cm 3\n",
      "luas persegi panjang 9 cm\n",
      "masukan nilai tinggi dalam satuan cm 3\n",
      "masukan nilai panjang dalam satuan cm 3\n",
      "masukan nilai lebar dalam satuan cm 3\n",
      "volume balok 27 cm\n"
     ]
    }
   ],
   "source": [
    "#tugas 5\n",
    "\n",
    "def luas_persegi_panjang ():\n",
    "    p=int(input(\"masukan nilai panjang dalam satuan cm\"))\n",
    "    l=int(input(\"masukan nilai lebar dalam satuan cm\"))\n",
    "    luas=p*l\n",
    "    return luas\n",
    "\n",
    "def volume_balok ():\n",
    "    t=int(input(\"masukan nilai tinggi dalam satuan cm\"))\n",
    "    volume=luas_persegi_panjang()*t\n",
    "    return volume\n",
    "\n",
    "print(\"luas persegi panjang\",luas_persegi_panjang(),\"cm\")\n",
    "print(\"volume balok\",volume_balok(),\"cm\")"
   ]
  },
  {
   "cell_type": "code",
   "execution_count": 7,
   "metadata": {},
   "outputs": [
    {
     "name": "stdout",
     "output_type": "stream",
     "text": [
      "masukan angka pertama 5\n",
      "masukan angka kedua 6\n",
      "5 sama dengan 6 adalah False\n",
      "masukan angka pertama 4\n",
      "masukan angka kedua 3\n",
      "4 lebih dari 3 adalah True\n"
     ]
    }
   ],
   "source": [
    "#tugas 5\n",
    "\n",
    "def fungsi_operator1():\n",
    "    angka_1=int(input(\"masukan angka pertama\"))\n",
    "    angka_2=int(input(\"masukan angka kedua\"))\n",
    "    operator1=angka_1==angka_2\n",
    "    print(angka_1,\"sama dengan\",angka_2,\"adalah\",operator1)\n",
    "    \n",
    "def fungsi_operator2():\n",
    "    angka_1=int(input(\"masukan angka pertama\"))\n",
    "    angka_2=int(input(\"masukan angka kedua\"))\n",
    "    operator2=angka_1>=angka_2\n",
    "    print(angka_1,\"lebih dari\",angka_2,\"adalah\",operator2)\n",
    "fungsi_operator1()\n",
    "fungsi_operator2()"
   ]
  },
  {
   "cell_type": "code",
   "execution_count": null,
   "metadata": {},
   "outputs": [],
   "source": []
  }
 ],
 "metadata": {
  "kernelspec": {
   "display_name": "Python 3",
   "language": "python",
   "name": "python3"
  },
  "language_info": {
   "codemirror_mode": {
    "name": "ipython",
    "version": 3
   },
   "file_extension": ".py",
   "mimetype": "text/x-python",
   "name": "python",
   "nbconvert_exporter": "python",
   "pygments_lexer": "ipython3",
   "version": "3.8.3"
  }
 },
 "nbformat": 4,
 "nbformat_minor": 4
}
