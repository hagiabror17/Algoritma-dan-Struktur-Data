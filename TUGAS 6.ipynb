{
 "cells": [
  {
   "cell_type": "code",
   "execution_count": 2,
   "metadata": {},
   "outputs": [
    {
     "name": "stdout",
     "output_type": "stream",
     "text": [
      "masukan nilai anda80\n"
     ]
    }
   ],
   "source": [
    "#tugas nomer 1\n",
    "\n",
    "nilai = int(input(\"masukan nilai anda\"))\n",
    "if nilai <70:\n",
    "    print(\"anda harus ikut remidi\")"
   ]
  },
  {
   "cell_type": "code",
   "execution_count": 3,
   "metadata": {},
   "outputs": [
    {
     "name": "stdout",
     "output_type": "stream",
     "text": [
      "masukan nilai rad12\n",
      "nilai luas lingkaran adalah 452.15999999999997\n",
      "lingkaran ini besar\n"
     ]
    }
   ],
   "source": [
    "#nomor 2\n",
    "\n",
    "rad=int(input(\"masukan nilai rad\"))\n",
    "L_lingkaran= 3.14*rad*rad\n",
    "print (\"nilai luas lingkaran adalah\",L_lingkaran)\n",
    "if L_lingkaran > 314 :\n",
    "    print (\"lingkaran ini besar\")\n",
    "else:\n",
    "    print (\"lingksrsn ini krcil\")\n",
    "\n"
   ]
  },
  {
   "cell_type": "code",
   "execution_count": 8,
   "metadata": {},
   "outputs": [
    {
     "name": "stdout",
     "output_type": "stream",
     "text": [
      "masukan program yang di pilih 1\n",
      "masukan nilai panjang 12\n",
      "masukan nilai lebar 666\n",
      "masukan nilai tinggi 13\n",
      "volume balok = 103896 cm\n"
     ]
    }
   ],
   "source": [
    "#nomor 3\n",
    "\n",
    "def v_balok():\n",
    "    p=int(input(\"masukan nilai panjang\"))\n",
    "    l=int(input(\"masukan nilai lebar\"))\n",
    "    t=int(input(\"masukan nilai tinggi\"))\n",
    "    volume=p*l*t\n",
    "    return volume\n",
    "def v_kubus():\n",
    "    s=int(input(\"masukan sisi dalam cm\"))\n",
    "    volume=s*s*s\n",
    "    return volume\n",
    "program=int(input(\"masukan program yang di pilih\"))\n",
    "if program == 1:\n",
    "    print(\"volume balok =\",v_balok(),\"cm\")\n",
    "elif program == 2:\n",
    "    print(\"volume kubus =\",v_kubus(),\"cm\")\n",
    "else:\n",
    "    print(\"program tidak tersedia\")"
   ]
  },
  {
   "cell_type": "code",
   "execution_count": null,
   "metadata": {},
   "outputs": [],
   "source": []
  }
 ],
 "metadata": {
  "kernelspec": {
   "display_name": "Python 3",
   "language": "python",
   "name": "python3"
  },
  "language_info": {
   "codemirror_mode": {
    "name": "ipython",
    "version": 3
   },
   "file_extension": ".py",
   "mimetype": "text/x-python",
   "name": "python",
   "nbconvert_exporter": "python",
   "pygments_lexer": "ipython3",
   "version": "3.8.3"
  }
 },
 "nbformat": 4,
 "nbformat_minor": 4
}
